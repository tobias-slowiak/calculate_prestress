{
 "cells": [
  {
   "cell_type": "code",
   "execution_count": 1,
   "id": "ded8f531",
   "metadata": {},
   "outputs": [],
   "source": [
    "import emilie_simulation\n",
    "import importlib\n",
    "importlib.reload(emilie_simulation) # if I change something reload it without restarting kernel\n",
    "from emilie_simulation import *"
   ]
  },
  {
   "cell_type": "code",
   "execution_count": 2,
   "id": "949f47c3",
   "metadata": {},
   "outputs": [],
   "source": [
    "### User relevant: adapt this if needed\n",
    "# Setting the simulation parameters, change if needed. Everything is in SI units.\n",
    "p = set_p_standard()\n",
    "p[\"Esin\"], p[\"nu\"] = 250e9, 0.23 #TODO: are these values right?\n",
    "p[\"sigcr\"] = 1e9\n",
    "p[\"sigau\"] = 40e6\n",
    "p[\"rhosin\"] = 3440\n",
    "p[\"rhocr\"] = 7140\n",
    "p[\"rhoau\"] = 19320\n",
    "p[\"Lside\"] = 1e-3\n",
    "p[\"hsin\"] = 50e-9\n",
    "p[\"hcr\"] = 10e-9\n",
    "p[\"hau\"] = 90e-9\n",
    "p[\"el_width\"] = 5e-6\n",
    "p[\"mpercentage_perf\"] = 0.62 #how much mass density is left on the perforated area?"
   ]
  },
  {
   "cell_type": "code",
   "execution_count": 3,
   "id": "e50acac4",
   "metadata": {},
   "outputs": [],
   "source": [
    "### User relevant: put your data here\n",
    "# Put the measured frequencies here (in Hz. example below: f(1,1) = 120kHz)\n",
    "freq_dict = {\n",
    "    \"(1,1)\": 120e3,\n",
    "    \"(2,1)\": 160e3,\n",
    "    \"(1,2)\": 180e3\n",
    "}\n",
    "measured_21 = True # Set true if you have measured the (2,1) mode frequency\n",
    "measured_12 = True # Set true if you have measured the (1,2) mode frequency\n"
   ]
  },
  {
   "cell_type": "code",
   "execution_count": 4,
   "id": "c893905e",
   "metadata": {},
   "outputs": [
    {
     "name": "stdout",
     "output_type": "stream",
     "text": [
      "Estimated prestress:  71812106.02080001\n"
     ]
    }
   ],
   "source": [
    "### Not user relevant: change nothing:\n",
    "# estimating the prestress using a fit function to simulation data\n",
    "p[\"sigsin\"] = prestress_estimator(freq_dict[\"(1,1)\"])\n",
    "print(\"Estimated prestress: \", p[\"sigsin\"])"
   ]
  },
  {
   "cell_type": "code",
   "execution_count": 5,
   "id": "e1fc144e",
   "metadata": {},
   "outputs": [],
   "source": [
    "### Not user relevant, change nothing:\n",
    "\n",
    "sigsins = { #fitted prestresses, do not change.\n",
    "    \"(1,1)\": 0,\n",
    "    \"(2,1)\": 0,\n",
    "    \"(1,2)\": 0\n",
    "}\n",
    "\n",
    "mesh = generate_mesh(p)\n",
    "\n",
    "def fit_freq(p, mode, mesh, sigsins):\n",
    "    feswave, eigenvals, multigfuwave = solve(p, freq_to_fit_to = freq_dict[mode], mode_to_fit_to = mode, ela = True)\n",
    "    sigsins[mode] = p[\"sigsin\"]\n",
    "    result = result_dict(p, mesh, feswave, multigfuwave, eigenvals)\n",
    "    return result"
   ]
  },
  {
   "cell_type": "code",
   "execution_count": 6,
   "id": "e4bf7855",
   "metadata": {},
   "outputs": [
    {
     "name": "stdout",
     "output_type": "stream",
     "text": [
      "solving\n"
     ]
    },
    {
     "ename": "KeyboardInterrupt",
     "evalue": "",
     "output_type": "error",
     "traceback": [
      "\u001b[0;31m---------------------------------------------------------------------------\u001b[0m",
      "\u001b[0;31mKeyboardInterrupt\u001b[0m                         Traceback (most recent call last)",
      "Cell \u001b[0;32mIn[6], line 5\u001b[0m\n\u001b[1;32m      1\u001b[0m \u001b[38;5;66;03m###Not user relevant, change nothing.\u001b[39;00m\n\u001b[1;32m      2\u001b[0m \u001b[38;5;66;03m# Simulating while adapting sigsin (prestress) until the frequencies match the measured ones\u001b[39;00m\n\u001b[1;32m      3\u001b[0m \n\u001b[1;32m      4\u001b[0m \u001b[38;5;66;03m#fitting the (1,1) mode\u001b[39;00m\n\u001b[0;32m----> 5\u001b[0m result \u001b[38;5;241m=\u001b[39m \u001b[43mfit_freq\u001b[49m\u001b[43m(\u001b[49m\u001b[43mp\u001b[49m\u001b[43m,\u001b[49m\u001b[43m \u001b[49m\u001b[38;5;124;43m\"\u001b[39;49m\u001b[38;5;124;43m(1,1)\u001b[39;49m\u001b[38;5;124;43m\"\u001b[39;49m\u001b[43m,\u001b[49m\u001b[43m \u001b[49m\u001b[43mmesh\u001b[49m\u001b[43m,\u001b[49m\u001b[43m \u001b[49m\u001b[43msigsins\u001b[49m\u001b[43m)\u001b[49m\n\u001b[1;32m      6\u001b[0m \u001b[38;5;28mprint\u001b[39m(\u001b[38;5;124m\"\u001b[39m\u001b[38;5;124mPrestress when fitting f(1,1): \u001b[39m\u001b[38;5;124m\"\u001b[39m \u001b[38;5;241m+\u001b[39m \u001b[38;5;28mstr\u001b[39m(p[\u001b[38;5;124m\"\u001b[39m\u001b[38;5;124msigsin\u001b[39m\u001b[38;5;124m\"\u001b[39m]\u001b[38;5;241m/\u001b[39m\u001b[38;5;241m1e6\u001b[39m) \u001b[38;5;241m+\u001b[39m \u001b[38;5;124m\"\u001b[39m\u001b[38;5;124m MPa\u001b[39m\u001b[38;5;124m\"\u001b[39m)\n\u001b[1;32m      7\u001b[0m \u001b[38;5;28mprint\u001b[39m(\u001b[38;5;124m\"\u001b[39m\u001b[38;5;124mfrom that the expected second mode freqs are: f(2,1)=\u001b[39m\u001b[38;5;124m\"\u001b[39m \u001b[38;5;241m+\u001b[39m \u001b[38;5;28mstr\u001b[39m(result[\u001b[38;5;124m\"\u001b[39m\u001b[38;5;124m(2,1)\u001b[39m\u001b[38;5;124m\"\u001b[39m][\u001b[38;5;241m0\u001b[39m]) \u001b[38;5;241m+\u001b[39m \u001b[38;5;124m\"\u001b[39m\u001b[38;5;124m kHz and f(1,2)=\u001b[39m\u001b[38;5;124m\"\u001b[39m \u001b[38;5;241m+\u001b[39m \u001b[38;5;28mstr\u001b[39m(result[\u001b[38;5;124m\"\u001b[39m\u001b[38;5;124m(1,2)\u001b[39m\u001b[38;5;124m\"\u001b[39m][\u001b[38;5;241m0\u001b[39m]) \u001b[38;5;241m+\u001b[39m \u001b[38;5;124m\"\u001b[39m\u001b[38;5;124m kHz\u001b[39m\u001b[38;5;124m\"\u001b[39m)\n",
      "Cell \u001b[0;32mIn[5], line 12\u001b[0m, in \u001b[0;36mfit_freq\u001b[0;34m(p, mode, mesh, sigsins)\u001b[0m\n\u001b[1;32m     11\u001b[0m \u001b[38;5;28;01mdef\u001b[39;00m \u001b[38;5;21mfit_freq\u001b[39m(p, mode, mesh, sigsins):\n\u001b[0;32m---> 12\u001b[0m     feswave, eigenvals, multigfuwave \u001b[38;5;241m=\u001b[39m \u001b[43msolve\u001b[49m\u001b[43m(\u001b[49m\u001b[43mp\u001b[49m\u001b[43m,\u001b[49m\u001b[43m \u001b[49m\u001b[43mfreq_to_fit_to\u001b[49m\u001b[43m \u001b[49m\u001b[38;5;241;43m=\u001b[39;49m\u001b[43m \u001b[49m\u001b[43mfreq_dict\u001b[49m\u001b[43m[\u001b[49m\u001b[43mmode\u001b[49m\u001b[43m]\u001b[49m\u001b[43m,\u001b[49m\u001b[43m \u001b[49m\u001b[43mmode_to_fit_to\u001b[49m\u001b[43m \u001b[49m\u001b[38;5;241;43m=\u001b[39;49m\u001b[43m \u001b[49m\u001b[43mmode\u001b[49m\u001b[43m,\u001b[49m\u001b[43m \u001b[49m\u001b[43mela\u001b[49m\u001b[43m \u001b[49m\u001b[38;5;241;43m=\u001b[39;49m\u001b[43m \u001b[49m\u001b[38;5;28;43;01mTrue\u001b[39;49;00m\u001b[43m)\u001b[49m\n\u001b[1;32m     13\u001b[0m     sigsins[mode] \u001b[38;5;241m=\u001b[39m p[\u001b[38;5;124m\"\u001b[39m\u001b[38;5;124msigsin\u001b[39m\u001b[38;5;124m\"\u001b[39m]\n\u001b[1;32m     14\u001b[0m     result \u001b[38;5;241m=\u001b[39m result_dict(p, mesh, feswave, multigfuwave, eigenvals)\n",
      "File \u001b[0;32m~/tu/semester7/calculate_prestress/emilie_simulation.py:525\u001b[0m, in \u001b[0;36msolve\u001b[0;34m(p, freq_to_fit_to, mode_to_fit_to, ela)\u001b[0m\n\u001b[1;32m    523\u001b[0m     gfstress \u001b[38;5;241m=\u001b[39m prestress\n\u001b[1;32m    524\u001b[0m \u001b[38;5;66;03m#solve wave problem\u001b[39;00m\n\u001b[0;32m--> 525\u001b[0m feswave, eigenvals, multigfuwave \u001b[38;5;241m=\u001b[39m \u001b[43msolve_wave\u001b[49m\u001b[43m(\u001b[49m\u001b[43mp\u001b[49m\u001b[43m,\u001b[49m\u001b[43m \u001b[49m\u001b[43mmesh\u001b[49m\u001b[43m,\u001b[49m\u001b[43m \u001b[49m\u001b[43mgfstress\u001b[49m\u001b[43m)\u001b[49m\n\u001b[1;32m    526\u001b[0m \u001b[38;5;28;01mif\u001b[39;00m freq_to_fit_to \u001b[38;5;241m==\u001b[39m \u001b[38;5;28;01mNone\u001b[39;00m: \u001b[38;5;66;03m# accept the result after the first iteration\u001b[39;00m\n\u001b[1;32m    527\u001b[0m     del_f \u001b[38;5;241m=\u001b[39m \u001b[38;5;241m0\u001b[39m\n",
      "File \u001b[0;32m~/tu/semester7/calculate_prestress/emilie_simulation.py:502\u001b[0m, in \u001b[0;36msolve_wave\u001b[0;34m(p, mesh, gfstress)\u001b[0m\n\u001b[1;32m    500\u001b[0m rhofct \u001b[38;5;241m=\u001b[39m generate_rho_fct(p)\n\u001b[1;32m    501\u001b[0m feswave, awave, m, prewave \u001b[38;5;241m=\u001b[39m generate_fes_wave(mesh, gfstress, rhofct)\n\u001b[0;32m--> 502\u001b[0m eigenvals, multigfuwave \u001b[38;5;241m=\u001b[39m \u001b[43msolveAlgEVP\u001b[49m\u001b[43m(\u001b[49m\u001b[43mp\u001b[49m\u001b[43m,\u001b[49m\u001b[43m \u001b[49m\u001b[43mfeswave\u001b[49m\u001b[43m,\u001b[49m\u001b[43m \u001b[49m\u001b[43mprewave\u001b[49m\u001b[43m,\u001b[49m\u001b[43m \u001b[49m\u001b[43mawave\u001b[49m\u001b[43m,\u001b[49m\u001b[43m \u001b[49m\u001b[43mm\u001b[49m\u001b[43m)\u001b[49m\n\u001b[1;32m    503\u001b[0m \u001b[38;5;28;01mreturn\u001b[39;00m feswave, eigenvals, multigfuwave\n",
      "File \u001b[0;32m~/tu/semester7/calculate_prestress/emilie_simulation.py:483\u001b[0m, in \u001b[0;36msolveAlgEVP\u001b[0;34m(p, feswave, pre, a, m, Verbose)\u001b[0m\n\u001b[1;32m    481\u001b[0m Av\u001b[38;5;241m.\u001b[39mdata \u001b[38;5;241m=\u001b[39m a\u001b[38;5;241m.\u001b[39mmat \u001b[38;5;241m*\u001b[39m vecs[j]\n\u001b[1;32m    482\u001b[0m Mv\u001b[38;5;241m.\u001b[39mdata \u001b[38;5;241m=\u001b[39m m\u001b[38;5;241m.\u001b[39mmat \u001b[38;5;241m*\u001b[39m vecs[j]\n\u001b[0;32m--> 483\u001b[0m \u001b[38;5;28;01mfor\u001b[39;00m k \u001b[38;5;129;01min\u001b[39;00m \u001b[38;5;28;43mrange\u001b[39;49m\u001b[43m(\u001b[49m\u001b[38;5;241;43m2\u001b[39;49m\u001b[38;5;241;43m*\u001b[39;49m\u001b[43mnum\u001b[49m\u001b[43m)\u001b[49m:\n\u001b[1;32m    484\u001b[0m     asmall[j,k] \u001b[38;5;241m=\u001b[39m InnerProduct(Av, vecs[k])\n\u001b[1;32m    485\u001b[0m     msmall[j,k] \u001b[38;5;241m=\u001b[39m InnerProduct(Mv, vecs[k])\n",
      "\u001b[0;31mKeyboardInterrupt\u001b[0m: "
     ]
    }
   ],
   "source": [
    "###Not user relevant, change nothing.\n",
    "# Simulating while adapting sigsin (prestress) until the frequencies match the measured ones\n",
    "\n",
    "#fitting the (1,1) mode\n",
    "result = fit_freq(p, \"(1,1)\", mesh, sigsins)\n",
    "print(\"Prestress when fitting f(1,1): \" + str(p[\"sigsin\"]/1e6) + \" MPa\")\n",
    "print(\"from that the expected second mode freqs are: f(2,1)=\" + str(result[\"(2,1)\"][0]) + \" kHz and f(1,2)=\" + str(result[\"(1,2)\"][0]) + \" kHz\")\n",
    "\n",
    "#fitting the (2,1) mode\n",
    "if measured_21:\n",
    "    result = fit_freq(p, \"(2,1)\", mesh, sigsins)\n",
    "    print(\"Prestress when fitting f(2,1): \" + str(p[\"sigsin\"]/1e6) + \" MPa\")\n",
    "    print(\"from that the expected other mode freqs are: f(1,1)=\" + str(result[\"(1,1)\"][0]) + \" kHz and f(1,2)=\" + str(result[\"(1,2)\"][0]) + \" kHz\")\n",
    "\n",
    "#fitting the (1,2) mode\n",
    "if measured_12:\n",
    "    result = fit_freq(p, \"(1,2)\", mesh, sigsins)\n",
    "    print(\"Prestress when fitting f(2,1): \" + str(p[\"sigsin\"]/1e6) + \" MPa\")\n",
    "    print(\"from that the expected other mode freqs are: f(1,1)=\" + str(result[\"(1,1)\"][0]) + \" kHz and f(2,1)=\" + str(result[\"(2,1)\"][0]) + \" kHz\")\n",
    "\n",
    "avg_sigsin = (sigsins[\"(1,1)\"] + sigsins[\"(2,1)\"] + sigsins[\"(1,2)\"]) / (1 + measured_21 + measured_12)\n",
    "print(\"Averaging gives an estimate of sigsin=\" + str(avg_sigsin/1e6) + \" MPa\")"
   ]
  }
 ],
 "metadata": {
  "kernelspec": {
   "display_name": "environment",
   "language": "python",
   "name": "python3"
  },
  "language_info": {
   "codemirror_mode": {
    "name": "ipython",
    "version": 3
   },
   "file_extension": ".py",
   "mimetype": "text/x-python",
   "name": "python",
   "nbconvert_exporter": "python",
   "pygments_lexer": "ipython3",
   "version": "3.12.3"
  }
 },
 "nbformat": 4,
 "nbformat_minor": 5
}
